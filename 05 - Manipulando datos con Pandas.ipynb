{
 "cells": [
  {
   "cell_type": "markdown",
   "metadata": {
    "collapsed": true
   },
   "source": [
    "# <center>Taller de análisis de datos usando Python </center>\n",
    "<br/> \n",
    " <br/>\n",
    "**Kevin Martinez-Folgar, MD.** <br><kmartinezfolgar@gmail.com> <br><br>\n",
    "**Sebastian Oliva**<br> <yo@sebastianoliva.com> \n",
    "<hr/>"
   ]
  },
  {
   "cell_type": "markdown",
   "metadata": {},
   "source": [
    "# <center> Manipulando datos con Pandas</center>\n",
    "<hr/>"
   ]
  },
  {
   "cell_type": "markdown",
   "metadata": {},
   "source": [
    "### Abriendo la base de datos con pandas"
   ]
  },
  {
   "cell_type": "markdown",
   "metadata": {},
   "source": [
    "Primero, vamos a abrir la base de datos e importarla en pandas, utilizamos una opcion de la libreria TKINTER para abrir la base de datos"
   ]
  },
  {
   "cell_type": "code",
   "execution_count": 1,
   "metadata": {
    "collapsed": true
   },
   "outputs": [],
   "source": [
    "from tkinter import filedialog as fd # para encontrar nuestra base de datos"
   ]
  },
  {
   "cell_type": "code",
   "execution_count": 3,
   "metadata": {},
   "outputs": [
    {
     "data": {
      "text/plain": [
       "'C:/Users/Kevin/Documents/GitHub/TallerPython-GobAbierto/datos/MC_datos_guatecambia.xlsx'"
      ]
     },
     "execution_count": 3,
     "metadata": {},
     "output_type": "execute_result"
    }
   ],
   "source": [
    "#Direccion_De_Base_De_Datos = fd.askopenfilename()\n",
    "Direccion_De_Base_De_Datos = 'C:/Users/Kevin/Documents/GitHub/TallerPython-GobAbierto/datos/MC_datos_guatecambia.xlsx'\n",
    "Direccion_De_Base_De_Datos"
   ]
  },
  {
   "cell_type": "markdown",
   "metadata": {},
   "source": [
    "Ahora que ya tenemos la direcciòn de nuestra base de datos en una variable vamos a importar pandas y abrir el archivo de excel"
   ]
  },
  {
   "cell_type": "code",
   "execution_count": 4,
   "metadata": {
    "collapsed": true
   },
   "outputs": [],
   "source": [
    "import pandas as pd"
   ]
  },
  {
   "cell_type": "code",
   "execution_count": 5,
   "metadata": {
    "collapsed": true
   },
   "outputs": [],
   "source": [
    "BaseDeDatos = pd.read_excel(Direccion_De_Base_De_Datos, sheetname=7)"
   ]
  },
  {
   "cell_type": "markdown",
   "metadata": {},
   "source": [
    "Vamos a explorar un poco nuestra base de datos"
   ]
  },
  {
   "cell_type": "code",
   "execution_count": 4,
   "metadata": {},
   "outputs": [
    {
     "data": {
      "text/html": [
       "<div>\n",
       "<style>\n",
       "    .dataframe thead tr:only-child th {\n",
       "        text-align: right;\n",
       "    }\n",
       "\n",
       "    .dataframe thead th {\n",
       "        text-align: left;\n",
       "    }\n",
       "\n",
       "    .dataframe tbody tr th {\n",
       "        vertical-align: top;\n",
       "    }\n",
       "</style>\n",
       "<table border=\"1\" class=\"dataframe\">\n",
       "  <thead>\n",
       "    <tr style=\"text-align: right;\">\n",
       "      <th></th>\n",
       "      <th>servicio</th>\n",
       "      <th>anio</th>\n",
       "      <th>trimestre</th>\n",
       "      <th>esfigmo</th>\n",
       "      <th>esteto</th>\n",
       "      <th>termo</th>\n",
       "      <th>lampara</th>\n",
       "      <th>otorrino</th>\n",
       "      <th>especulo</th>\n",
       "      <th>anosco</th>\n",
       "      <th>electro</th>\n",
       "      <th>ilumina</th>\n",
       "    </tr>\n",
       "  </thead>\n",
       "  <tbody>\n",
       "    <tr>\n",
       "      <th>0</th>\n",
       "      <td>Hospital Regional Escuintla - Clinica Barcelona</td>\n",
       "      <td>2015</td>\n",
       "      <td>2</td>\n",
       "      <td>1</td>\n",
       "      <td>1</td>\n",
       "      <td>1</td>\n",
       "      <td>1</td>\n",
       "      <td>0</td>\n",
       "      <td>1</td>\n",
       "      <td>0</td>\n",
       "      <td>1</td>\n",
       "      <td>1</td>\n",
       "    </tr>\n",
       "    <tr>\n",
       "      <th>1</th>\n",
       "      <td>UAI del Hosptial Distrital  de Coatepeque</td>\n",
       "      <td>2015</td>\n",
       "      <td>2</td>\n",
       "      <td>1</td>\n",
       "      <td>1</td>\n",
       "      <td>1</td>\n",
       "      <td>1</td>\n",
       "      <td>1</td>\n",
       "      <td>1</td>\n",
       "      <td>0</td>\n",
       "      <td>0</td>\n",
       "      <td>0</td>\n",
       "    </tr>\n",
       "    <tr>\n",
       "      <th>2</th>\n",
       "      <td>Centro de Salud zona 3, Guatemala</td>\n",
       "      <td>2015</td>\n",
       "      <td>1</td>\n",
       "      <td>1</td>\n",
       "      <td>1</td>\n",
       "      <td>1</td>\n",
       "      <td>1</td>\n",
       "      <td>0</td>\n",
       "      <td>1</td>\n",
       "      <td>1</td>\n",
       "      <td>0</td>\n",
       "      <td>0</td>\n",
       "    </tr>\n",
       "    <tr>\n",
       "      <th>3</th>\n",
       "      <td>UAI del Hospital Distrital de Malacatan, San M...</td>\n",
       "      <td>2015</td>\n",
       "      <td>1</td>\n",
       "      <td>1</td>\n",
       "      <td>1</td>\n",
       "      <td>1</td>\n",
       "      <td>1</td>\n",
       "      <td>1</td>\n",
       "      <td>1</td>\n",
       "      <td>1</td>\n",
       "      <td>0</td>\n",
       "      <td>0</td>\n",
       "    </tr>\n",
       "    <tr>\n",
       "      <th>4</th>\n",
       "      <td>UAI del Hospital Regional de Escuintla</td>\n",
       "      <td>2015</td>\n",
       "      <td>3</td>\n",
       "      <td>1</td>\n",
       "      <td>1</td>\n",
       "      <td>1</td>\n",
       "      <td>1</td>\n",
       "      <td>1</td>\n",
       "      <td>1</td>\n",
       "      <td>0</td>\n",
       "      <td>0</td>\n",
       "      <td>0</td>\n",
       "    </tr>\n",
       "  </tbody>\n",
       "</table>\n",
       "</div>"
      ],
      "text/plain": [
       "                                            servicio  anio  trimestre  \\\n",
       "0    Hospital Regional Escuintla - Clinica Barcelona  2015          2   \n",
       "1          UAI del Hosptial Distrital  de Coatepeque  2015          2   \n",
       "2                  Centro de Salud zona 3, Guatemala  2015          1   \n",
       "3  UAI del Hospital Distrital de Malacatan, San M...  2015          1   \n",
       "4             UAI del Hospital Regional de Escuintla  2015          3   \n",
       "\n",
       "   esfigmo  esteto  termo  lampara  otorrino  especulo  anosco  electro  \\\n",
       "0        1       1      1        1         0         1       0        1   \n",
       "1        1       1      1        1         1         1       0        0   \n",
       "2        1       1      1        1         0         1       1        0   \n",
       "3        1       1      1        1         1         1       1        0   \n",
       "4        1       1      1        1         1         1       0        0   \n",
       "\n",
       "   ilumina  \n",
       "0        1  \n",
       "1        0  \n",
       "2        0  \n",
       "3        0  \n",
       "4        0  "
      ]
     },
     "execution_count": 4,
     "metadata": {},
     "output_type": "execute_result"
    }
   ],
   "source": [
    "BaseDeDatos.head()"
   ]
  },
  {
   "cell_type": "markdown",
   "metadata": {},
   "source": [
    "Pandas se encargó de adecuar e importar nuestros datos, sin embargo recuerden todas la opciones que pueden usar para importar su base de datos en Pandas."
   ]
  },
  {
   "cell_type": "code",
   "execution_count": null,
   "metadata": {
    "collapsed": true
   },
   "outputs": [],
   "source": [
    "pd.read_excel?"
   ]
  },
  {
   "cell_type": "raw",
   "metadata": {},
   "source": [
    "pd.read_excel(io, sheetname=0, header=0, skiprows=None, skip_footer=0, index_col=None, names=None, parse_cols=None, parse_dates=False, date_parser=None, na_values=None, thousands=None, convert_float=True, has_index_names=None, converters=None, dtype=None, true_values=None, false_values=None, engine=None, squeeze=False, **kwds"
   ]
  },
  {
   "cell_type": "markdown",
   "metadata": {},
   "source": [
    "### Veamos el tamaño de nuestra base de datos"
   ]
  },
  {
   "cell_type": "code",
   "execution_count": 6,
   "metadata": {},
   "outputs": [
    {
     "data": {
      "text/plain": [
       "(256, 12)"
      ]
     },
     "execution_count": 6,
     "metadata": {},
     "output_type": "execute_result"
    }
   ],
   "source": [
    "BaseDeDatos.shape"
   ]
  },
  {
   "cell_type": "markdown",
   "metadata": {},
   "source": [
    "Ok, tenemos 12 columnas y 256 filas, osea 12 variables y 256 evaluaciones"
   ]
  },
  {
   "cell_type": "markdown",
   "metadata": {},
   "source": [
    "### Veamos las primeras 10 filas de nuestra base de datos"
   ]
  },
  {
   "cell_type": "code",
   "execution_count": 15,
   "metadata": {
    "scrolled": true
   },
   "outputs": [
    {
     "data": {
      "text/html": [
       "<div>\n",
       "<style>\n",
       "    .dataframe thead tr:only-child th {\n",
       "        text-align: right;\n",
       "    }\n",
       "\n",
       "    .dataframe thead th {\n",
       "        text-align: left;\n",
       "    }\n",
       "\n",
       "    .dataframe tbody tr th {\n",
       "        vertical-align: top;\n",
       "    }\n",
       "</style>\n",
       "<table border=\"1\" class=\"dataframe\">\n",
       "  <thead>\n",
       "    <tr style=\"text-align: right;\">\n",
       "      <th></th>\n",
       "      <th>servicio</th>\n",
       "      <th>anio</th>\n",
       "      <th>trimestre</th>\n",
       "      <th>esfigmo</th>\n",
       "      <th>esteto</th>\n",
       "      <th>termo</th>\n",
       "      <th>lampara</th>\n",
       "      <th>otorrino</th>\n",
       "      <th>especulo</th>\n",
       "      <th>anosco</th>\n",
       "      <th>electro</th>\n",
       "      <th>ilumina</th>\n",
       "    </tr>\n",
       "  </thead>\n",
       "  <tbody>\n",
       "    <tr>\n",
       "      <th>0</th>\n",
       "      <td>Hospital Regional Escuintla - Clinica Barcelona</td>\n",
       "      <td>2015</td>\n",
       "      <td>2</td>\n",
       "      <td>1</td>\n",
       "      <td>1</td>\n",
       "      <td>1</td>\n",
       "      <td>1</td>\n",
       "      <td>0</td>\n",
       "      <td>1</td>\n",
       "      <td>0</td>\n",
       "      <td>1</td>\n",
       "      <td>1</td>\n",
       "    </tr>\n",
       "    <tr>\n",
       "      <th>1</th>\n",
       "      <td>UAI del Hosptial Distrital  de Coatepeque</td>\n",
       "      <td>2015</td>\n",
       "      <td>2</td>\n",
       "      <td>1</td>\n",
       "      <td>1</td>\n",
       "      <td>1</td>\n",
       "      <td>1</td>\n",
       "      <td>1</td>\n",
       "      <td>1</td>\n",
       "      <td>0</td>\n",
       "      <td>0</td>\n",
       "      <td>0</td>\n",
       "    </tr>\n",
       "    <tr>\n",
       "      <th>2</th>\n",
       "      <td>Centro de Salud zona 3, Guatemala</td>\n",
       "      <td>2015</td>\n",
       "      <td>1</td>\n",
       "      <td>1</td>\n",
       "      <td>1</td>\n",
       "      <td>1</td>\n",
       "      <td>1</td>\n",
       "      <td>0</td>\n",
       "      <td>1</td>\n",
       "      <td>1</td>\n",
       "      <td>0</td>\n",
       "      <td>0</td>\n",
       "    </tr>\n",
       "    <tr>\n",
       "      <th>3</th>\n",
       "      <td>UAI del Hospital Distrital de Malacatan, San M...</td>\n",
       "      <td>2015</td>\n",
       "      <td>1</td>\n",
       "      <td>1</td>\n",
       "      <td>1</td>\n",
       "      <td>1</td>\n",
       "      <td>1</td>\n",
       "      <td>1</td>\n",
       "      <td>1</td>\n",
       "      <td>1</td>\n",
       "      <td>0</td>\n",
       "      <td>0</td>\n",
       "    </tr>\n",
       "    <tr>\n",
       "      <th>4</th>\n",
       "      <td>UAI del Hospital Regional de Escuintla</td>\n",
       "      <td>2015</td>\n",
       "      <td>3</td>\n",
       "      <td>1</td>\n",
       "      <td>1</td>\n",
       "      <td>1</td>\n",
       "      <td>1</td>\n",
       "      <td>1</td>\n",
       "      <td>1</td>\n",
       "      <td>0</td>\n",
       "      <td>0</td>\n",
       "      <td>0</td>\n",
       "    </tr>\n",
       "    <tr>\n",
       "      <th>5</th>\n",
       "      <td>UAI del Hospital Regional de Quetzaltenango</td>\n",
       "      <td>2015</td>\n",
       "      <td>1</td>\n",
       "      <td>1</td>\n",
       "      <td>1</td>\n",
       "      <td>1</td>\n",
       "      <td>1</td>\n",
       "      <td>1</td>\n",
       "      <td>1</td>\n",
       "      <td>0</td>\n",
       "      <td>0</td>\n",
       "      <td>1</td>\n",
       "    </tr>\n",
       "    <tr>\n",
       "      <th>6</th>\n",
       "      <td>UAI del Hospital departamental de Retalhuleu</td>\n",
       "      <td>2015</td>\n",
       "      <td>3</td>\n",
       "      <td>0</td>\n",
       "      <td>0</td>\n",
       "      <td>0</td>\n",
       "      <td>0</td>\n",
       "      <td>0</td>\n",
       "      <td>0</td>\n",
       "      <td>0</td>\n",
       "      <td>0</td>\n",
       "      <td>0</td>\n",
       "    </tr>\n",
       "    <tr>\n",
       "      <th>7</th>\n",
       "      <td>Centro de Salud Poptun, Peten</td>\n",
       "      <td>2015</td>\n",
       "      <td>1</td>\n",
       "      <td>1</td>\n",
       "      <td>1</td>\n",
       "      <td>1</td>\n",
       "      <td>1</td>\n",
       "      <td>1</td>\n",
       "      <td>1</td>\n",
       "      <td>0</td>\n",
       "      <td>0</td>\n",
       "      <td>0</td>\n",
       "    </tr>\n",
       "    <tr>\n",
       "      <th>8</th>\n",
       "      <td>Clinica Isaac Cohen</td>\n",
       "      <td>2015</td>\n",
       "      <td>1</td>\n",
       "      <td>1</td>\n",
       "      <td>1</td>\n",
       "      <td>1</td>\n",
       "      <td>1</td>\n",
       "      <td>1</td>\n",
       "      <td>1</td>\n",
       "      <td>1</td>\n",
       "      <td>0</td>\n",
       "      <td>0</td>\n",
       "    </tr>\n",
       "    <tr>\n",
       "      <th>9</th>\n",
       "      <td>UAI del Hosptial Distrital  de Coatepeque</td>\n",
       "      <td>2015</td>\n",
       "      <td>1</td>\n",
       "      <td>1</td>\n",
       "      <td>1</td>\n",
       "      <td>1</td>\n",
       "      <td>1</td>\n",
       "      <td>1</td>\n",
       "      <td>1</td>\n",
       "      <td>0</td>\n",
       "      <td>0</td>\n",
       "      <td>1</td>\n",
       "    </tr>\n",
       "  </tbody>\n",
       "</table>\n",
       "</div>"
      ],
      "text/plain": [
       "                                            servicio  anio  trimestre  \\\n",
       "0    Hospital Regional Escuintla - Clinica Barcelona  2015          2   \n",
       "1          UAI del Hosptial Distrital  de Coatepeque  2015          2   \n",
       "2                  Centro de Salud zona 3, Guatemala  2015          1   \n",
       "3  UAI del Hospital Distrital de Malacatan, San M...  2015          1   \n",
       "4             UAI del Hospital Regional de Escuintla  2015          3   \n",
       "5        UAI del Hospital Regional de Quetzaltenango  2015          1   \n",
       "6       UAI del Hospital departamental de Retalhuleu  2015          3   \n",
       "7                      Centro de Salud Poptun, Peten  2015          1   \n",
       "8                               Clinica Isaac Cohen   2015          1   \n",
       "9          UAI del Hosptial Distrital  de Coatepeque  2015          1   \n",
       "\n",
       "   esfigmo  esteto  termo  lampara  otorrino  especulo  anosco  electro  \\\n",
       "0        1       1      1        1         0         1       0        1   \n",
       "1        1       1      1        1         1         1       0        0   \n",
       "2        1       1      1        1         0         1       1        0   \n",
       "3        1       1      1        1         1         1       1        0   \n",
       "4        1       1      1        1         1         1       0        0   \n",
       "5        1       1      1        1         1         1       0        0   \n",
       "6        0       0      0        0         0         0       0        0   \n",
       "7        1       1      1        1         1         1       0        0   \n",
       "8        1       1      1        1         1         1       1        0   \n",
       "9        1       1      1        1         1         1       0        0   \n",
       "\n",
       "   ilumina  \n",
       "0        1  \n",
       "1        0  \n",
       "2        0  \n",
       "3        0  \n",
       "4        0  \n",
       "5        1  \n",
       "6        0  \n",
       "7        0  \n",
       "8        0  \n",
       "9        1  "
      ]
     },
     "execution_count": 15,
     "metadata": {},
     "output_type": "execute_result"
    }
   ],
   "source": [
    "BaseDeDatos.head(10)"
   ]
  },
  {
   "cell_type": "markdown",
   "metadata": {},
   "source": [
    "### Veamos las últimas 10 filas de nuestra base de datos"
   ]
  },
  {
   "cell_type": "code",
   "execution_count": 7,
   "metadata": {},
   "outputs": [
    {
     "data": {
      "text/html": [
       "<div>\n",
       "<style>\n",
       "    .dataframe thead tr:only-child th {\n",
       "        text-align: right;\n",
       "    }\n",
       "\n",
       "    .dataframe thead th {\n",
       "        text-align: left;\n",
       "    }\n",
       "\n",
       "    .dataframe tbody tr th {\n",
       "        vertical-align: top;\n",
       "    }\n",
       "</style>\n",
       "<table border=\"1\" class=\"dataframe\">\n",
       "  <thead>\n",
       "    <tr style=\"text-align: right;\">\n",
       "      <th></th>\n",
       "      <th>servicio</th>\n",
       "      <th>anio</th>\n",
       "      <th>trimestre</th>\n",
       "      <th>esfigmo</th>\n",
       "      <th>esteto</th>\n",
       "      <th>termo</th>\n",
       "      <th>lampara</th>\n",
       "      <th>otorrino</th>\n",
       "      <th>especulo</th>\n",
       "      <th>anosco</th>\n",
       "      <th>electro</th>\n",
       "      <th>ilumina</th>\n",
       "    </tr>\n",
       "  </thead>\n",
       "  <tbody>\n",
       "    <tr>\n",
       "      <th>246</th>\n",
       "      <td>Centro de Salud Champerico, Retalhuleu</td>\n",
       "      <td>2017</td>\n",
       "      <td>2</td>\n",
       "      <td>0</td>\n",
       "      <td>0</td>\n",
       "      <td>0</td>\n",
       "      <td>0</td>\n",
       "      <td>0</td>\n",
       "      <td>0</td>\n",
       "      <td>0</td>\n",
       "      <td>0</td>\n",
       "      <td>0</td>\n",
       "    </tr>\n",
       "    <tr>\n",
       "      <th>247</th>\n",
       "      <td>Centro de Salud Champerico, Retalhuleu</td>\n",
       "      <td>2017</td>\n",
       "      <td>2</td>\n",
       "      <td>1</td>\n",
       "      <td>1</td>\n",
       "      <td>1</td>\n",
       "      <td>1</td>\n",
       "      <td>1</td>\n",
       "      <td>1</td>\n",
       "      <td>1</td>\n",
       "      <td>0</td>\n",
       "      <td>0</td>\n",
       "    </tr>\n",
       "    <tr>\n",
       "      <th>248</th>\n",
       "      <td>UAI del Hosptial Distrital  de Coatepeque</td>\n",
       "      <td>2017</td>\n",
       "      <td>2</td>\n",
       "      <td>1</td>\n",
       "      <td>0</td>\n",
       "      <td>1</td>\n",
       "      <td>1</td>\n",
       "      <td>1</td>\n",
       "      <td>1</td>\n",
       "      <td>1</td>\n",
       "      <td>1</td>\n",
       "      <td>1</td>\n",
       "    </tr>\n",
       "    <tr>\n",
       "      <th>249</th>\n",
       "      <td>UAI Puerto Barrios, Izabal Japon-Guatemala</td>\n",
       "      <td>2017</td>\n",
       "      <td>2</td>\n",
       "      <td>1</td>\n",
       "      <td>1</td>\n",
       "      <td>1</td>\n",
       "      <td>1</td>\n",
       "      <td>1</td>\n",
       "      <td>1</td>\n",
       "      <td>1</td>\n",
       "      <td>1</td>\n",
       "      <td>1</td>\n",
       "    </tr>\n",
       "    <tr>\n",
       "      <th>250</th>\n",
       "      <td>Centro de Salud Puerto Barrios, Izabal</td>\n",
       "      <td>2017</td>\n",
       "      <td>2</td>\n",
       "      <td>1</td>\n",
       "      <td>1</td>\n",
       "      <td>1</td>\n",
       "      <td>1</td>\n",
       "      <td>1</td>\n",
       "      <td>1</td>\n",
       "      <td>0</td>\n",
       "      <td>1</td>\n",
       "      <td>1</td>\n",
       "    </tr>\n",
       "    <tr>\n",
       "      <th>251</th>\n",
       "      <td>UAI Hospital Roosevelt</td>\n",
       "      <td>2017</td>\n",
       "      <td>1</td>\n",
       "      <td>1</td>\n",
       "      <td>1</td>\n",
       "      <td>1</td>\n",
       "      <td>1</td>\n",
       "      <td>1</td>\n",
       "      <td>1</td>\n",
       "      <td>0</td>\n",
       "      <td>0</td>\n",
       "      <td>1</td>\n",
       "    </tr>\n",
       "    <tr>\n",
       "      <th>252</th>\n",
       "      <td>UAI Hospital Roosevelt</td>\n",
       "      <td>2017</td>\n",
       "      <td>2</td>\n",
       "      <td>1</td>\n",
       "      <td>1</td>\n",
       "      <td>1</td>\n",
       "      <td>1</td>\n",
       "      <td>1</td>\n",
       "      <td>1</td>\n",
       "      <td>0</td>\n",
       "      <td>0</td>\n",
       "      <td>1</td>\n",
       "    </tr>\n",
       "    <tr>\n",
       "      <th>253</th>\n",
       "      <td>UAI del Hospital Distrital de Malacatan, San M...</td>\n",
       "      <td>2017</td>\n",
       "      <td>2</td>\n",
       "      <td>1</td>\n",
       "      <td>1</td>\n",
       "      <td>1</td>\n",
       "      <td>1</td>\n",
       "      <td>1</td>\n",
       "      <td>1</td>\n",
       "      <td>1</td>\n",
       "      <td>0</td>\n",
       "      <td>1</td>\n",
       "    </tr>\n",
       "    <tr>\n",
       "      <th>254</th>\n",
       "      <td>Centro de Salud, Pajapita, San Marcos</td>\n",
       "      <td>2017</td>\n",
       "      <td>2</td>\n",
       "      <td>1</td>\n",
       "      <td>1</td>\n",
       "      <td>1</td>\n",
       "      <td>1</td>\n",
       "      <td>0</td>\n",
       "      <td>1</td>\n",
       "      <td>0</td>\n",
       "      <td>0</td>\n",
       "      <td>1</td>\n",
       "    </tr>\n",
       "    <tr>\n",
       "      <th>255</th>\n",
       "      <td>UAI Hospital Roosevelt</td>\n",
       "      <td>2017</td>\n",
       "      <td>1</td>\n",
       "      <td>1</td>\n",
       "      <td>1</td>\n",
       "      <td>1</td>\n",
       "      <td>1</td>\n",
       "      <td>1</td>\n",
       "      <td>1</td>\n",
       "      <td>0</td>\n",
       "      <td>0</td>\n",
       "      <td>0</td>\n",
       "    </tr>\n",
       "  </tbody>\n",
       "</table>\n",
       "</div>"
      ],
      "text/plain": [
       "                                              servicio  anio  trimestre  \\\n",
       "246             Centro de Salud Champerico, Retalhuleu  2017          2   \n",
       "247             Centro de Salud Champerico, Retalhuleu  2017          2   \n",
       "248          UAI del Hosptial Distrital  de Coatepeque  2017          2   \n",
       "249         UAI Puerto Barrios, Izabal Japon-Guatemala  2017          2   \n",
       "250             Centro de Salud Puerto Barrios, Izabal  2017          2   \n",
       "251                             UAI Hospital Roosevelt  2017          1   \n",
       "252                             UAI Hospital Roosevelt  2017          2   \n",
       "253  UAI del Hospital Distrital de Malacatan, San M...  2017          2   \n",
       "254              Centro de Salud, Pajapita, San Marcos  2017          2   \n",
       "255                             UAI Hospital Roosevelt  2017          1   \n",
       "\n",
       "     esfigmo  esteto  termo  lampara  otorrino  especulo  anosco  electro  \\\n",
       "246        0       0      0        0         0         0       0        0   \n",
       "247        1       1      1        1         1         1       1        0   \n",
       "248        1       0      1        1         1         1       1        1   \n",
       "249        1       1      1        1         1         1       1        1   \n",
       "250        1       1      1        1         1         1       0        1   \n",
       "251        1       1      1        1         1         1       0        0   \n",
       "252        1       1      1        1         1         1       0        0   \n",
       "253        1       1      1        1         1         1       1        0   \n",
       "254        1       1      1        1         0         1       0        0   \n",
       "255        1       1      1        1         1         1       0        0   \n",
       "\n",
       "     ilumina  \n",
       "246        0  \n",
       "247        0  \n",
       "248        1  \n",
       "249        1  \n",
       "250        1  \n",
       "251        1  \n",
       "252        1  \n",
       "253        1  \n",
       "254        1  \n",
       "255        0  "
      ]
     },
     "execution_count": 7,
     "metadata": {},
     "output_type": "execute_result"
    }
   ],
   "source": [
    "BaseDeDatos.tail(10)"
   ]
  },
  {
   "cell_type": "markdown",
   "metadata": {},
   "source": [
    "### Veamos el formato en el que estan nuestras variables "
   ]
  },
  {
   "cell_type": "code",
   "execution_count": 8,
   "metadata": {},
   "outputs": [
    {
     "name": "stdout",
     "output_type": "stream",
     "text": [
      "<class 'pandas.core.frame.DataFrame'>\n",
      "RangeIndex: 256 entries, 0 to 255\n",
      "Data columns (total 12 columns):\n",
      "servicio     256 non-null object\n",
      "anio         256 non-null int64\n",
      "trimestre    256 non-null int64\n",
      "esfigmo      256 non-null int64\n",
      "esteto       256 non-null int64\n",
      "termo        256 non-null int64\n",
      "lampara      256 non-null int64\n",
      "otorrino     256 non-null int64\n",
      "especulo     256 non-null int64\n",
      "anosco       256 non-null int64\n",
      "electro      256 non-null int64\n",
      "ilumina      256 non-null int64\n",
      "dtypes: int64(11), object(1)\n",
      "memory usage: 24.1+ KB\n"
     ]
    }
   ],
   "source": [
    "BaseDeDatos.info()"
   ]
  },
  {
   "cell_type": "markdown",
   "metadata": {},
   "source": [
    "En esta base de datos casi todas las variables fueron importadas como números enteros, y se llaman variables \"dummy\" en donde 1 representa presencia del atributo y 0 donde no esta presente."
   ]
  },
  {
   "cell_type": "markdown",
   "metadata": {},
   "source": [
    "Vamos a revisar cada una de las variables empecemos por `servicio`"
   ]
  },
  {
   "cell_type": "code",
   "execution_count": 18,
   "metadata": {},
   "outputs": [
    {
     "data": {
      "text/plain": [
       "0        Hospital Regional Escuintla - Clinica Barcelona\n",
       "1              UAI del Hosptial Distrital  de Coatepeque\n",
       "2                      Centro de Salud zona 3, Guatemala\n",
       "3      UAI del Hospital Distrital de Malacatan, San M...\n",
       "4                 UAI del Hospital Regional de Escuintla\n",
       "5            UAI del Hospital Regional de Quetzaltenango\n",
       "6           UAI del Hospital departamental de Retalhuleu\n",
       "7                          Centro de Salud Poptun, Peten\n",
       "8                                   Clinica Isaac Cohen \n",
       "9              UAI del Hosptial Distrital  de Coatepeque\n",
       "10                 UAI Puerto Barrios, Hospital Infantil\n",
       "11       UAI del Hospital Departamental de  Sacatepequez\n",
       "12     UAI del Hospital Regional de Cuilapa, Santa Rosa \n",
       "13                        UAI Hospital San Benito, Peten\n",
       "14            Centro de Salud Mazatenango, Suchitepequez\n",
       "15                 UAI Puerto Barrios, Hospital Infantil\n",
       "16            UAI Puerto Barrios, Izabal Japon-Guatemala\n",
       "17                     Centro de Salud zona 3, Guatemala\n",
       "18     UAI del Hospital Regional de Cuilapa, Santa Rosa \n",
       "19       UAI del Hospital Departamental de  Sacatepequez\n",
       "20             UAI del Hosptial Distrital  de Coatepeque\n",
       "21                        UAI Hospital San Benito, Peten\n",
       "22     UAI del Hospital Regional de Cuilapa, Santa Rosa \n",
       "23          UAI del Hospital departamental de Retalhuleu\n",
       "24          UAI del Hospital departamental de Retalhuleu\n",
       "25     Centro de Salud Santa Lucia Cotzumalguapa, Esc...\n",
       "26         Centro de Salud Puerto de San Jose, Escuintla\n",
       "27                Centro de Salud Puerto Barrios, Izabal\n",
       "28                     Centro de Salud zona 1, Guatemala\n",
       "29                     Centro de Salud zona 3, Guatemala\n",
       "                             ...                        \n",
       "226                       Centro de Salud Quetzaltenango\n",
       "227               Centro de Salud Retalhuleu, Retalhuleu\n",
       "228               Centro de Salud Retalhuleu, Retalhuleu\n",
       "229                       Centro de Salud Quetzaltenango\n",
       "230                             VICIT Ayutla, San Marcos\n",
       "231              Centro de Salud, San Marcos, San Marcos\n",
       "232                       Centro de Salud Quetzaltenango\n",
       "233            UAI del Hosptial Distrital  de Coatepeque\n",
       "234                       UAI Hospital San Benito, Peten\n",
       "235    Centro de AtenciÃƒÂ³n Permanente La Blanca, Sa...\n",
       "236         UAI del Hospital departamental de Retalhuleu\n",
       "237         UAI del Hospital departamental de Retalhuleu\n",
       "238      Hospital Regional Escuintla - Clinica Barcelona\n",
       "239      Hospital Regional Escuintla - Clinica Barcelona\n",
       "240                    Centro de Salud zona 3, Guatemala\n",
       "241                    Centro de Salud zona 3, Guatemala\n",
       "242                    Centro de Salud zona 3, Guatemala\n",
       "243          Centro de salud, Coatepeque, Quetzaltenango\n",
       "244               Centro de Salud Champerico, Retalhuleu\n",
       "245               Centro de Salud Champerico, Retalhuleu\n",
       "246               Centro de Salud Champerico, Retalhuleu\n",
       "247               Centro de Salud Champerico, Retalhuleu\n",
       "248            UAI del Hosptial Distrital  de Coatepeque\n",
       "249           UAI Puerto Barrios, Izabal Japon-Guatemala\n",
       "250               Centro de Salud Puerto Barrios, Izabal\n",
       "251                               UAI Hospital Roosevelt\n",
       "252                               UAI Hospital Roosevelt\n",
       "253    UAI del Hospital Distrital de Malacatan, San M...\n",
       "254                Centro de Salud, Pajapita, San Marcos\n",
       "255                               UAI Hospital Roosevelt\n",
       "Name: servicio, Length: 256, dtype: object"
      ]
     },
     "execution_count": 18,
     "metadata": {},
     "output_type": "execute_result"
    }
   ],
   "source": [
    "BaseDeDatos[\"servicio\"]"
   ]
  },
  {
   "cell_type": "markdown",
   "metadata": {},
   "source": [
    "Este fue importado como \"objeto\", cuando idealmente debería de ser STRING, o deberíamos de ver si se repiten y entonces serian Categorías"
   ]
  },
  {
   "cell_type": "code",
   "execution_count": 9,
   "metadata": {},
   "outputs": [
    {
     "data": {
      "text/plain": [
       "UAI del Hosptial Distrital  de Coatepeque                 17\n",
       "UAI Hospital San Benito, Peten                            14\n",
       "Centro de Salud zona 3, Guatemala                         12\n",
       "UAI Hospital Roosevelt                                    11\n",
       "Centro de Salud CabaÃƒÂ±as, Zacapa                        11\n",
       "UAI del Hospital Distrital de Malacatan, San Marcos       11\n",
       "UAI del Hospital departamental de Retalhuleu              10\n",
       "VICIT Ayutla, San Marcos                                   9\n",
       "UAI del Hospital Regional de Cuilapa, Santa Rosa           9\n",
       "UAI del Hospital Regional de Quetzaltenango                9\n",
       "Centro de Salud Quetzaltenango                             9\n",
       "Clinica Isaac Cohen                                        8\n",
       "UAI Puerto Barrios, Hospital Infantil                      8\n",
       "Centro de Salud Puerto Barrios, Izabal                     8\n",
       "UAI Puerto Barrios, Izabal Japon-Guatemala                 7\n",
       "UAI Hospital General San Juan de Dios (CFLAG)              7\n",
       "Centro de Salud Champerico, Retalhuleu                     7\n",
       "UAI del Hospital Regional de Escuintla                     6\n",
       "UAI del Hospital Departamental de Huehuetenango            6\n",
       "Centro de Salud Puerto de San Jose, Escuintla              6\n",
       "UAI del Hospital Departamental de  Sacatepequez            6\n",
       "UAI del Hospital Regional de Zacapa                        5\n",
       "Centro de AtenciÃƒÂ³n Permanente La Blanca, San Marcos     4\n",
       "Hospital Regional Escuintla - Clinica Barcelona            4\n",
       "Centro de Salud Retalhuleu, Retalhuleu                     4\n",
       "Centro de Salud Mazatenango, Suchitepequez                 4\n",
       "Centro de Salud Nueva ConcepciÃ³n, Escuintla               3\n",
       "Centro de Salud, San Marcos, San Marcos                    3\n",
       "Centro de Salud Flores, Peten                              3\n",
       "Centro de Salud Santa Lucia Cotzumalguapa, Escuintla       3\n",
       "Centro de Salud Chimaltenango                              3\n",
       "Centro de Salud Poptun, Peten                              3\n",
       "UAI, Hospital Regional de Coban                            3\n",
       "Centro de Salud La Libertad, Peten                         2\n",
       "Centro de salud, Coatepeque, Quetzaltenango                2\n",
       "Centro de Salud Siquinala, Escuintla                       2\n",
       "Centro de Salud, San Antonio, Suchitepequez                2\n",
       "Centro de Salud CobÃƒÂ¡n, Alta Verapaz                     2\n",
       "Centro de Salud zona 1, Guatemala                          2\n",
       "Centro de Salud Malacatan, San Marcos                      2\n",
       "Centro de Salud La Gomera, Escuintla                       1\n",
       "VICIT Quetzaltenango                                       1\n",
       "Centro de Salud Tiquisate, Escuintla                       1\n",
       "Centro de Salud La Florida, Zona 19, Guatemala             1\n",
       "Centro de Salud Los Amates, Izabal                         1\n",
       "Centro de Salud zona 6, Guatemala                          1\n",
       "Centro de Salud, Pajapita, San Marcos                      1\n",
       "Centro de Salud Sacatepequez                               1\n",
       "Centro de Salud Escuintla                                  1\n",
       "Name: servicio, dtype: int64"
      ]
     },
     "execution_count": 9,
     "metadata": {},
     "output_type": "execute_result"
    }
   ],
   "source": [
    "BaseDeDatos[\"servicio\"].value_counts()"
   ]
  },
  {
   "cell_type": "markdown",
   "metadata": {},
   "source": [
    "Si tenemos varias repetidas, y debido a las tildes algunos nombres de centros de salud se importaron mal  pero los podemos ingresar como categorias para obtener datos descriptivos con pandas"
   ]
  },
  {
   "cell_type": "code",
   "execution_count": 12,
   "metadata": {},
   "outputs": [],
   "source": [
    "BaseDeDatos[\"servicio\"] = pd.Categorical(BaseDeDatos[\"servicio\"])"
   ]
  },
  {
   "cell_type": "code",
   "execution_count": 16,
   "metadata": {},
   "outputs": [
    {
     "data": {
      "text/plain": [
       "count                                           256\n",
       "unique                                           49\n",
       "top       UAI del Hosptial Distrital  de Coatepeque\n",
       "freq                                             17\n",
       "Name: servicio, dtype: object"
      ]
     },
     "execution_count": 16,
     "metadata": {},
     "output_type": "execute_result"
    }
   ],
   "source": [
    "BaseDeDatos[\"servicio\"].describe()"
   ]
  },
  {
   "cell_type": "code",
   "execution_count": 33,
   "metadata": {},
   "outputs": [],
   "source": [
    "BaseDeDatos[\"año\"] = pd.Categorical(BaseDeDatos[\"anio\"])"
   ]
  },
  {
   "cell_type": "code",
   "execution_count": 35,
   "metadata": {},
   "outputs": [
    {
     "data": {
      "text/plain": [
       "array([2015, 2016, 2017], dtype=int64)"
      ]
     },
     "execution_count": 35,
     "metadata": {},
     "output_type": "execute_result"
    }
   ],
   "source": [
    "BaseDeDatos[\"anio\"].unique()"
   ]
  },
  {
   "cell_type": "code",
   "execution_count": 36,
   "metadata": {},
   "outputs": [
    {
     "data": {
      "text/plain": [
       "0      2015\n",
       "1      2015\n",
       "2      2015\n",
       "3      2015\n",
       "4      2015\n",
       "5      2015\n",
       "6      2015\n",
       "7      2015\n",
       "8      2015\n",
       "9      2015\n",
       "10     2015\n",
       "11     2015\n",
       "12     2015\n",
       "13     2015\n",
       "14     2015\n",
       "15     2015\n",
       "16     2015\n",
       "17     2015\n",
       "18     2015\n",
       "19     2015\n",
       "20     2015\n",
       "21     2015\n",
       "22     2015\n",
       "23     2015\n",
       "24     2015\n",
       "25     2015\n",
       "26     2015\n",
       "27     2015\n",
       "28     2015\n",
       "29     2015\n",
       "       ... \n",
       "226    2017\n",
       "227    2017\n",
       "228    2017\n",
       "229    2017\n",
       "230    2017\n",
       "231    2017\n",
       "232    2017\n",
       "233    2017\n",
       "234    2017\n",
       "235    2017\n",
       "236    2017\n",
       "237    2017\n",
       "238    2016\n",
       "239    2017\n",
       "240    2017\n",
       "241    2017\n",
       "242    2017\n",
       "243    2017\n",
       "244    2017\n",
       "245    2017\n",
       "246    2017\n",
       "247    2017\n",
       "248    2017\n",
       "249    2017\n",
       "250    2017\n",
       "251    2017\n",
       "252    2017\n",
       "253    2017\n",
       "254    2017\n",
       "255    2017\n",
       "Name: año, Length: 256, dtype: category\n",
       "Categories (3, int64): [2015, 2016, 2017]"
      ]
     },
     "execution_count": 36,
     "metadata": {},
     "output_type": "execute_result"
    }
   ],
   "source": [
    "BaseDeDatos[\"año\"]"
   ]
  },
  {
   "cell_type": "code",
   "execution_count": 39,
   "metadata": {},
   "outputs": [
    {
     "data": {
      "text/html": [
       "<div>\n",
       "<style>\n",
       "    .dataframe thead tr:only-child th {\n",
       "        text-align: right;\n",
       "    }\n",
       "\n",
       "    .dataframe thead th {\n",
       "        text-align: left;\n",
       "    }\n",
       "\n",
       "    .dataframe tbody tr th {\n",
       "        vertical-align: top;\n",
       "    }\n",
       "</style>\n",
       "<table border=\"1\" class=\"dataframe\">\n",
       "  <thead>\n",
       "    <tr style=\"text-align: right;\">\n",
       "      <th>año</th>\n",
       "      <th>2015</th>\n",
       "      <th>2016</th>\n",
       "      <th>2017</th>\n",
       "    </tr>\n",
       "    <tr>\n",
       "      <th>servicio</th>\n",
       "      <th></th>\n",
       "      <th></th>\n",
       "      <th></th>\n",
       "    </tr>\n",
       "  </thead>\n",
       "  <tbody>\n",
       "    <tr>\n",
       "      <th>Centro de AtenciÃƒÂ³n Permanente La Blanca, San Marcos</th>\n",
       "      <td>0</td>\n",
       "      <td>0</td>\n",
       "      <td>4</td>\n",
       "    </tr>\n",
       "    <tr>\n",
       "      <th>Centro de Salud CabaÃƒÂ±as, Zacapa</th>\n",
       "      <td>7</td>\n",
       "      <td>4</td>\n",
       "      <td>0</td>\n",
       "    </tr>\n",
       "    <tr>\n",
       "      <th>Centro de Salud Champerico, Retalhuleu</th>\n",
       "      <td>0</td>\n",
       "      <td>1</td>\n",
       "      <td>6</td>\n",
       "    </tr>\n",
       "    <tr>\n",
       "      <th>Centro de Salud Chimaltenango</th>\n",
       "      <td>1</td>\n",
       "      <td>2</td>\n",
       "      <td>0</td>\n",
       "    </tr>\n",
       "    <tr>\n",
       "      <th>Centro de Salud CobÃƒÂ¡n, Alta Verapaz</th>\n",
       "      <td>0</td>\n",
       "      <td>2</td>\n",
       "      <td>0</td>\n",
       "    </tr>\n",
       "    <tr>\n",
       "      <th>Centro de Salud Escuintla</th>\n",
       "      <td>1</td>\n",
       "      <td>0</td>\n",
       "      <td>0</td>\n",
       "    </tr>\n",
       "    <tr>\n",
       "      <th>Centro de Salud Flores, Peten</th>\n",
       "      <td>1</td>\n",
       "      <td>2</td>\n",
       "      <td>0</td>\n",
       "    </tr>\n",
       "    <tr>\n",
       "      <th>Centro de Salud La Florida, Zona 19, Guatemala</th>\n",
       "      <td>0</td>\n",
       "      <td>0</td>\n",
       "      <td>1</td>\n",
       "    </tr>\n",
       "    <tr>\n",
       "      <th>Centro de Salud La Gomera, Escuintla</th>\n",
       "      <td>0</td>\n",
       "      <td>1</td>\n",
       "      <td>0</td>\n",
       "    </tr>\n",
       "    <tr>\n",
       "      <th>Centro de Salud La Libertad, Peten</th>\n",
       "      <td>0</td>\n",
       "      <td>2</td>\n",
       "      <td>0</td>\n",
       "    </tr>\n",
       "    <tr>\n",
       "      <th>Centro de Salud Los Amates, Izabal</th>\n",
       "      <td>0</td>\n",
       "      <td>0</td>\n",
       "      <td>1</td>\n",
       "    </tr>\n",
       "    <tr>\n",
       "      <th>Centro de Salud Malacatan, San Marcos</th>\n",
       "      <td>0</td>\n",
       "      <td>2</td>\n",
       "      <td>0</td>\n",
       "    </tr>\n",
       "    <tr>\n",
       "      <th>Centro de Salud Mazatenango, Suchitepequez</th>\n",
       "      <td>3</td>\n",
       "      <td>1</td>\n",
       "      <td>0</td>\n",
       "    </tr>\n",
       "    <tr>\n",
       "      <th>Centro de Salud Nueva ConcepciÃ³n, Escuintla</th>\n",
       "      <td>0</td>\n",
       "      <td>2</td>\n",
       "      <td>1</td>\n",
       "    </tr>\n",
       "    <tr>\n",
       "      <th>Centro de Salud Poptun, Peten</th>\n",
       "      <td>3</td>\n",
       "      <td>0</td>\n",
       "      <td>0</td>\n",
       "    </tr>\n",
       "    <tr>\n",
       "      <th>Centro de Salud Puerto Barrios, Izabal</th>\n",
       "      <td>2</td>\n",
       "      <td>3</td>\n",
       "      <td>3</td>\n",
       "    </tr>\n",
       "    <tr>\n",
       "      <th>Centro de Salud Puerto de San Jose, Escuintla</th>\n",
       "      <td>2</td>\n",
       "      <td>2</td>\n",
       "      <td>2</td>\n",
       "    </tr>\n",
       "    <tr>\n",
       "      <th>Centro de Salud Quetzaltenango</th>\n",
       "      <td>2</td>\n",
       "      <td>2</td>\n",
       "      <td>5</td>\n",
       "    </tr>\n",
       "    <tr>\n",
       "      <th>Centro de Salud Retalhuleu, Retalhuleu</th>\n",
       "      <td>0</td>\n",
       "      <td>1</td>\n",
       "      <td>3</td>\n",
       "    </tr>\n",
       "    <tr>\n",
       "      <th>Centro de Salud Sacatepequez</th>\n",
       "      <td>1</td>\n",
       "      <td>0</td>\n",
       "      <td>0</td>\n",
       "    </tr>\n",
       "    <tr>\n",
       "      <th>Centro de Salud Santa Lucia Cotzumalguapa, Escuintla</th>\n",
       "      <td>2</td>\n",
       "      <td>1</td>\n",
       "      <td>0</td>\n",
       "    </tr>\n",
       "    <tr>\n",
       "      <th>Centro de Salud Siquinala, Escuintla</th>\n",
       "      <td>0</td>\n",
       "      <td>1</td>\n",
       "      <td>1</td>\n",
       "    </tr>\n",
       "    <tr>\n",
       "      <th>Centro de Salud Tiquisate, Escuintla</th>\n",
       "      <td>0</td>\n",
       "      <td>1</td>\n",
       "      <td>0</td>\n",
       "    </tr>\n",
       "    <tr>\n",
       "      <th>Centro de Salud zona 1, Guatemala</th>\n",
       "      <td>2</td>\n",
       "      <td>0</td>\n",
       "      <td>0</td>\n",
       "    </tr>\n",
       "    <tr>\n",
       "      <th>Centro de Salud zona 3, Guatemala</th>\n",
       "      <td>5</td>\n",
       "      <td>2</td>\n",
       "      <td>5</td>\n",
       "    </tr>\n",
       "    <tr>\n",
       "      <th>Centro de Salud zona 6, Guatemala</th>\n",
       "      <td>1</td>\n",
       "      <td>0</td>\n",
       "      <td>0</td>\n",
       "    </tr>\n",
       "    <tr>\n",
       "      <th>Centro de Salud, Pajapita, San Marcos</th>\n",
       "      <td>0</td>\n",
       "      <td>0</td>\n",
       "      <td>1</td>\n",
       "    </tr>\n",
       "    <tr>\n",
       "      <th>Centro de Salud, San Antonio, Suchitepequez</th>\n",
       "      <td>0</td>\n",
       "      <td>2</td>\n",
       "      <td>0</td>\n",
       "    </tr>\n",
       "    <tr>\n",
       "      <th>Centro de Salud, San Marcos, San Marcos</th>\n",
       "      <td>0</td>\n",
       "      <td>1</td>\n",
       "      <td>2</td>\n",
       "    </tr>\n",
       "    <tr>\n",
       "      <th>Centro de salud, Coatepeque, Quetzaltenango</th>\n",
       "      <td>0</td>\n",
       "      <td>0</td>\n",
       "      <td>2</td>\n",
       "    </tr>\n",
       "    <tr>\n",
       "      <th>Clinica Isaac Cohen</th>\n",
       "      <td>5</td>\n",
       "      <td>2</td>\n",
       "      <td>1</td>\n",
       "    </tr>\n",
       "    <tr>\n",
       "      <th>Hospital Regional Escuintla - Clinica Barcelona</th>\n",
       "      <td>1</td>\n",
       "      <td>2</td>\n",
       "      <td>1</td>\n",
       "    </tr>\n",
       "    <tr>\n",
       "      <th>UAI Hospital General San Juan de Dios (CFLAG)</th>\n",
       "      <td>4</td>\n",
       "      <td>1</td>\n",
       "      <td>2</td>\n",
       "    </tr>\n",
       "    <tr>\n",
       "      <th>UAI Hospital Roosevelt</th>\n",
       "      <td>6</td>\n",
       "      <td>2</td>\n",
       "      <td>3</td>\n",
       "    </tr>\n",
       "    <tr>\n",
       "      <th>UAI Hospital San Benito, Peten</th>\n",
       "      <td>9</td>\n",
       "      <td>3</td>\n",
       "      <td>2</td>\n",
       "    </tr>\n",
       "    <tr>\n",
       "      <th>UAI Puerto Barrios, Hospital Infantil</th>\n",
       "      <td>5</td>\n",
       "      <td>3</td>\n",
       "      <td>0</td>\n",
       "    </tr>\n",
       "    <tr>\n",
       "      <th>UAI Puerto Barrios, Izabal Japon-Guatemala</th>\n",
       "      <td>4</td>\n",
       "      <td>1</td>\n",
       "      <td>2</td>\n",
       "    </tr>\n",
       "    <tr>\n",
       "      <th>UAI del Hospital Departamental de  Sacatepequez</th>\n",
       "      <td>4</td>\n",
       "      <td>2</td>\n",
       "      <td>0</td>\n",
       "    </tr>\n",
       "    <tr>\n",
       "      <th>UAI del Hospital Departamental de Huehuetenango</th>\n",
       "      <td>5</td>\n",
       "      <td>1</td>\n",
       "      <td>0</td>\n",
       "    </tr>\n",
       "    <tr>\n",
       "      <th>UAI del Hospital Distrital de Malacatan, San Marcos</th>\n",
       "      <td>7</td>\n",
       "      <td>2</td>\n",
       "      <td>2</td>\n",
       "    </tr>\n",
       "    <tr>\n",
       "      <th>UAI del Hospital Regional de Cuilapa, Santa Rosa</th>\n",
       "      <td>8</td>\n",
       "      <td>1</td>\n",
       "      <td>0</td>\n",
       "    </tr>\n",
       "    <tr>\n",
       "      <th>UAI del Hospital Regional de Escuintla</th>\n",
       "      <td>3</td>\n",
       "      <td>3</td>\n",
       "      <td>0</td>\n",
       "    </tr>\n",
       "    <tr>\n",
       "      <th>UAI del Hospital Regional de Quetzaltenango</th>\n",
       "      <td>5</td>\n",
       "      <td>2</td>\n",
       "      <td>2</td>\n",
       "    </tr>\n",
       "    <tr>\n",
       "      <th>UAI del Hospital Regional de Zacapa</th>\n",
       "      <td>4</td>\n",
       "      <td>1</td>\n",
       "      <td>0</td>\n",
       "    </tr>\n",
       "    <tr>\n",
       "      <th>UAI del Hospital departamental de Retalhuleu</th>\n",
       "      <td>5</td>\n",
       "      <td>3</td>\n",
       "      <td>2</td>\n",
       "    </tr>\n",
       "    <tr>\n",
       "      <th>UAI del Hosptial Distrital  de Coatepeque</th>\n",
       "      <td>8</td>\n",
       "      <td>5</td>\n",
       "      <td>4</td>\n",
       "    </tr>\n",
       "    <tr>\n",
       "      <th>UAI, Hospital Regional de Coban</th>\n",
       "      <td>3</td>\n",
       "      <td>0</td>\n",
       "      <td>0</td>\n",
       "    </tr>\n",
       "    <tr>\n",
       "      <th>VICIT Ayutla, San Marcos</th>\n",
       "      <td>4</td>\n",
       "      <td>3</td>\n",
       "      <td>2</td>\n",
       "    </tr>\n",
       "    <tr>\n",
       "      <th>VICIT Quetzaltenango</th>\n",
       "      <td>0</td>\n",
       "      <td>1</td>\n",
       "      <td>0</td>\n",
       "    </tr>\n",
       "  </tbody>\n",
       "</table>\n",
       "</div>"
      ],
      "text/plain": [
       "año                                                 2015  2016  2017\n",
       "servicio                                                            \n",
       "Centro de AtenciÃƒÂ³n Permanente La Blanca, San...     0     0     4\n",
       "Centro de Salud CabaÃƒÂ±as, Zacapa                     7     4     0\n",
       "Centro de Salud Champerico, Retalhuleu                 0     1     6\n",
       "Centro de Salud Chimaltenango                          1     2     0\n",
       "Centro de Salud CobÃƒÂ¡n, Alta Verapaz                 0     2     0\n",
       "Centro de Salud Escuintla                              1     0     0\n",
       "Centro de Salud Flores, Peten                          1     2     0\n",
       "Centro de Salud La Florida, Zona 19, Guatemala         0     0     1\n",
       "Centro de Salud La Gomera, Escuintla                   0     1     0\n",
       "Centro de Salud La Libertad, Peten                     0     2     0\n",
       "Centro de Salud Los Amates, Izabal                     0     0     1\n",
       "Centro de Salud Malacatan, San Marcos                  0     2     0\n",
       "Centro de Salud Mazatenango, Suchitepequez             3     1     0\n",
       "Centro de Salud Nueva ConcepciÃ³n, Escuintla           0     2     1\n",
       "Centro de Salud Poptun, Peten                          3     0     0\n",
       "Centro de Salud Puerto Barrios, Izabal                 2     3     3\n",
       "Centro de Salud Puerto de San Jose, Escuintla          2     2     2\n",
       "Centro de Salud Quetzaltenango                         2     2     5\n",
       "Centro de Salud Retalhuleu, Retalhuleu                 0     1     3\n",
       "Centro de Salud Sacatepequez                           1     0     0\n",
       "Centro de Salud Santa Lucia Cotzumalguapa, Escu...     2     1     0\n",
       "Centro de Salud Siquinala, Escuintla                   0     1     1\n",
       "Centro de Salud Tiquisate, Escuintla                   0     1     0\n",
       "Centro de Salud zona 1, Guatemala                      2     0     0\n",
       "Centro de Salud zona 3, Guatemala                      5     2     5\n",
       "Centro de Salud zona 6, Guatemala                      1     0     0\n",
       "Centro de Salud, Pajapita, San Marcos                  0     0     1\n",
       "Centro de Salud, San Antonio, Suchitepequez            0     2     0\n",
       "Centro de Salud, San Marcos, San Marcos                0     1     2\n",
       "Centro de salud, Coatepeque, Quetzaltenango            0     0     2\n",
       "Clinica Isaac Cohen                                    5     2     1\n",
       "Hospital Regional Escuintla - Clinica Barcelona        1     2     1\n",
       "UAI Hospital General San Juan de Dios (CFLAG)          4     1     2\n",
       "UAI Hospital Roosevelt                                 6     2     3\n",
       "UAI Hospital San Benito, Peten                         9     3     2\n",
       "UAI Puerto Barrios, Hospital Infantil                  5     3     0\n",
       "UAI Puerto Barrios, Izabal Japon-Guatemala             4     1     2\n",
       "UAI del Hospital Departamental de  Sacatepequez        4     2     0\n",
       "UAI del Hospital Departamental de Huehuetenango        5     1     0\n",
       "UAI del Hospital Distrital de Malacatan, San Ma...     7     2     2\n",
       "UAI del Hospital Regional de Cuilapa, Santa Rosa       8     1     0\n",
       "UAI del Hospital Regional de Escuintla                 3     3     0\n",
       "UAI del Hospital Regional de Quetzaltenango            5     2     2\n",
       "UAI del Hospital Regional de Zacapa                    4     1     0\n",
       "UAI del Hospital departamental de Retalhuleu           5     3     2\n",
       "UAI del Hosptial Distrital  de Coatepeque              8     5     4\n",
       "UAI, Hospital Regional de Coban                        3     0     0\n",
       "VICIT Ayutla, San Marcos                               4     3     2\n",
       "VICIT Quetzaltenango                                   0     1     0"
      ]
     },
     "execution_count": 39,
     "metadata": {},
     "output_type": "execute_result"
    }
   ],
   "source": [
    "pd.crosstab(BaseDeDatos[\"servicio\"], BaseDeDatos[\"año\"])"
   ]
  },
  {
   "cell_type": "code",
   "execution_count": null,
   "metadata": {
    "collapsed": true
   },
   "outputs": [],
   "source": []
  },
  {
   "cell_type": "code",
   "execution_count": null,
   "metadata": {
    "collapsed": true
   },
   "outputs": [],
   "source": []
  },
  {
   "cell_type": "markdown",
   "metadata": {},
   "source": [
    "###  Columnas (Variables)"
   ]
  },
  {
   "cell_type": "code",
   "execution_count": null,
   "metadata": {
    "collapsed": true
   },
   "outputs": [],
   "source": [
    "## BaseDeDatos[\"mes_ocu\"]\n",
    "## BaseDeDatos.mes_ocu"
   ]
  },
  {
   "cell_type": "code",
   "execution_count": null,
   "metadata": {
    "collapsed": true
   },
   "outputs": [],
   "source": [
    "BaseDeDatos.describe()"
   ]
  },
  {
   "cell_type": "markdown",
   "metadata": {},
   "source": [
    "## Quitando los \"missings\""
   ]
  },
  {
   "cell_type": "code",
   "execution_count": null,
   "metadata": {
    "collapsed": true
   },
   "outputs": [],
   "source": []
  },
  {
   "cell_type": "raw",
   "metadata": {
    "collapsed": true
   },
   "source": [
    "import numpy as np\n",
    "\n",
    "BaseDeDatos[\"variable_ejemplo1\"].replace(to_replace=99, value=np.nan, inplace=True)"
   ]
  },
  {
   "cell_type": "markdown",
   "metadata": {},
   "source": [
    "### a.\tCrear Nuevas columnas"
   ]
  },
  {
   "cell_type": "code",
   "execution_count": null,
   "metadata": {
    "collapsed": true
   },
   "outputs": [],
   "source": [
    "BaseDeDatos.nueva_columna = 1900"
   ]
  },
  {
   "cell_type": "code",
   "execution_count": null,
   "metadata": {
    "collapsed": true
   },
   "outputs": [],
   "source": [
    "BaseDeDatos.head() "
   ]
  },
  {
   "cell_type": "code",
   "execution_count": null,
   "metadata": {
    "collapsed": true
   },
   "outputs": [],
   "source": [
    "BaseDeDatos.nueva_columna "
   ]
  },
  {
   "cell_type": "code",
   "execution_count": null,
   "metadata": {
    "collapsed": true
   },
   "outputs": [],
   "source": [
    "BaseDeDatos[\"Nueva Columna\"] = \"INCAP\""
   ]
  },
  {
   "cell_type": "code",
   "execution_count": null,
   "metadata": {
    "collapsed": true
   },
   "outputs": [],
   "source": [
    "%matplotlib inline\n"
   ]
  },
  {
   "cell_type": "code",
   "execution_count": null,
   "metadata": {
    "collapsed": true
   },
   "outputs": [],
   "source": [
    "BaseDeDatos.Nueva Columna"
   ]
  },
  {
   "cell_type": "code",
   "execution_count": null,
   "metadata": {
    "collapsed": true
   },
   "outputs": [],
   "source": [
    "BaseDeDatos[\"Nueva_Columna\"] = np.nan"
   ]
  },
  {
   "cell_type": "code",
   "execution_count": null,
   "metadata": {
    "collapsed": true
   },
   "outputs": [],
   "source": [
    "BaseDeDatos.head()"
   ]
  },
  {
   "cell_type": "code",
   "execution_count": null,
   "metadata": {
    "collapsed": true
   },
   "outputs": [],
   "source": [
    "BaseDeDatos.Nueva_Columna"
   ]
  },
  {
   "cell_type": "markdown",
   "metadata": {},
   "source": [
    "### b.\tRenombrar columnas"
   ]
  },
  {
   "cell_type": "code",
   "execution_count": null,
   "metadata": {
    "collapsed": true
   },
   "outputs": [],
   "source": [
    "BaseDeDatos.rename(columns={'Nueva Columna':'Valor 1'}, inplace=True)\n",
    "BaseDeDatos.rename(columns={'Nueva_Columna':'Valor 2'}, inplace=True)"
   ]
  },
  {
   "cell_type": "code",
   "execution_count": null,
   "metadata": {
    "collapsed": true
   },
   "outputs": [],
   "source": [
    "BaseDeDatos.head()"
   ]
  },
  {
   "cell_type": "code",
   "execution_count": null,
   "metadata": {
    "collapsed": true
   },
   "outputs": [],
   "source": [
    "BaseDeDatos.rename(columns={\"Valor 1\":\"Columna 1\", \"Valor 2\":\"Columna 2\"}, inplace=True)"
   ]
  },
  {
   "cell_type": "code",
   "execution_count": null,
   "metadata": {
    "collapsed": true
   },
   "outputs": [],
   "source": [
    "BaseDeDatos.head()"
   ]
  },
  {
   "cell_type": "markdown",
   "metadata": {},
   "source": [
    "### Filas (Observaciones)"
   ]
  },
  {
   "cell_type": "code",
   "execution_count": null,
   "metadata": {
    "collapsed": true
   },
   "outputs": [],
   "source": [
    "BaseDeDatos.iloc[5]"
   ]
  },
  {
   "cell_type": "code",
   "execution_count": null,
   "metadata": {
    "collapsed": true
   },
   "outputs": [],
   "source": [
    "BaseDeDatos.loc[5]"
   ]
  },
  {
   "cell_type": "markdown",
   "metadata": {},
   "source": [
    "### Eliminar observaciones"
   ]
  },
  {
   "cell_type": "code",
   "execution_count": null,
   "metadata": {
    "collapsed": true
   },
   "outputs": [],
   "source": [
    "## Vamos a crear una copia de la base de datos para asegurarnos de no dañar la base original\n",
    "BaseDeDatos2 = BaseDeDatos.copy()"
   ]
  },
  {
   "cell_type": "code",
   "execution_count": null,
   "metadata": {
    "collapsed": true
   },
   "outputs": [],
   "source": [
    "BaseDeDatos2.drop(5, axis=0, inplace=True)"
   ]
  },
  {
   "cell_type": "markdown",
   "metadata": {},
   "source": [
    "**Ejercicio No. 1** Codificar variables categóricas"
   ]
  },
  {
   "cell_type": "markdown",
   "metadata": {
    "collapsed": true
   },
   "source": [
    "Supongamos que estas aprendiendo Python por tu propia cuenta, y necesitas codificar unas variables que tienes en formato texto a valores numericos, ósea el proceso de \"codificación\", "
   ]
  },
  {
   "cell_type": "markdown",
   "metadata": {},
   "source": [
    "¿Comó lo buscarias en Google?"
   ]
  },
  {
   "cell_type": "code",
   "execution_count": null,
   "metadata": {
    "collapsed": true
   },
   "outputs": [],
   "source": []
  },
  {
   "cell_type": "markdown",
   "metadata": {},
   "source": [
    "¿Crees que encontraste la respuesta? , Ok convierte los meses  de la base de datos a texto utilizando un diccionario y luego codificalas, deja tu codigo para poder verlo"
   ]
  },
  {
   "cell_type": "code",
   "execution_count": null,
   "metadata": {
    "collapsed": true
   },
   "outputs": [],
   "source": []
  },
  {
   "cell_type": "markdown",
   "metadata": {},
   "source": [
    "**Ejercicio No. 2** Utilizar el comando Group By "
   ]
  },
  {
   "cell_type": "markdown",
   "metadata": {
    "collapsed": true
   },
   "source": [
    "Utilizando el comando GROUP BY (\"https://pandas.pydata.org/pandas-docs/stable/generated/pandas.DataFrame.groupby.html\")"
   ]
  },
  {
   "cell_type": "code",
   "execution_count": null,
   "metadata": {
    "collapsed": true
   },
   "outputs": [],
   "source": []
  },
  {
   "cell_type": "code",
   "execution_count": null,
   "metadata": {
    "collapsed": true
   },
   "outputs": [],
   "source": []
  },
  {
   "cell_type": "code",
   "execution_count": null,
   "metadata": {
    "collapsed": true
   },
   "outputs": [],
   "source": []
  },
  {
   "cell_type": "markdown",
   "metadata": {},
   "source": [
    "***Ejercicio No. 3*** Tablas de Variables Cruzadas"
   ]
  },
  {
   "cell_type": "markdown",
   "metadata": {
    "collapsed": true
   },
   "source": [
    "Utilizando el comando CROSSTAB (pd.crosstab) (\"https://pandas.pydata.org/pandas-docs/stable/generated/pandas.crosstab.html\"), realicen una tabla cruzada entre dia de la semana en que ocurrio el evento y el tipo de evento "
   ]
  },
  {
   "cell_type": "code",
   "execution_count": null,
   "metadata": {
    "collapsed": true
   },
   "outputs": [],
   "source": []
  },
  {
   "cell_type": "code",
   "execution_count": null,
   "metadata": {
    "collapsed": true
   },
   "outputs": [],
   "source": []
  },
  {
   "cell_type": "code",
   "execution_count": null,
   "metadata": {
    "collapsed": true
   },
   "outputs": [],
   "source": []
  },
  {
   "cell_type": "code",
   "execution_count": null,
   "metadata": {
    "collapsed": true
   },
   "outputs": [],
   "source": []
  },
  {
   "cell_type": "code",
   "execution_count": null,
   "metadata": {
    "collapsed": true
   },
   "outputs": [],
   "source": []
  },
  {
   "cell_type": "code",
   "execution_count": null,
   "metadata": {
    "collapsed": true
   },
   "outputs": [],
   "source": []
  },
  {
   "cell_type": "code",
   "execution_count": null,
   "metadata": {
    "collapsed": true
   },
   "outputs": [],
   "source": []
  },
  {
   "cell_type": "markdown",
   "metadata": {
    "collapsed": true
   },
   "source": [
    "***Ejercicio No. 4*** Segmentar bases de datos"
   ]
  },
  {
   "cell_type": "markdown",
   "metadata": {
    "collapsed": true
   },
   "source": [
    "Utilizando una mascara (BasedeDatos[BaseDeDatos[\"var\"]== X]) donde var es la variable y X es el valor, creen una base de datos de accidentes solo del municipio de guatemala "
   ]
  },
  {
   "cell_type": "code",
   "execution_count": null,
   "metadata": {
    "collapsed": true
   },
   "outputs": [],
   "source": []
  },
  {
   "cell_type": "code",
   "execution_count": null,
   "metadata": {
    "collapsed": true
   },
   "outputs": [],
   "source": []
  },
  {
   "cell_type": "code",
   "execution_count": null,
   "metadata": {
    "collapsed": true
   },
   "outputs": [],
   "source": []
  },
  {
   "cell_type": "markdown",
   "metadata": {
    "collapsed": true
   },
   "source": [
    "*** Ejercicio No. 5*** Unir bases de datos (Merge/Join)"
   ]
  },
  {
   "cell_type": "markdown",
   "metadata": {
    "collapsed": true
   },
   "source": [
    "Dentro de la carpeta `data` esta la base de datos del año 2015  une las base de datos utilizando Merge o Join (psst: revisa la diferencia entre merge o join)\n",
    "y guarda la base de datos que lograste unir como un archivo de Excel (utilzando ExcelWriter, \"https://pandas.pydata.org/pandas-docs/stable/generated/pandas.DataFrame.to_excel.html\")"
   ]
  },
  {
   "cell_type": "code",
   "execution_count": null,
   "metadata": {
    "collapsed": true
   },
   "outputs": [],
   "source": []
  },
  {
   "cell_type": "code",
   "execution_count": null,
   "metadata": {
    "collapsed": true
   },
   "outputs": [],
   "source": []
  },
  {
   "cell_type": "code",
   "execution_count": null,
   "metadata": {
    "collapsed": true
   },
   "outputs": [],
   "source": []
  },
  {
   "cell_type": "code",
   "execution_count": null,
   "metadata": {
    "collapsed": true
   },
   "outputs": [],
   "source": []
  },
  {
   "cell_type": "code",
   "execution_count": null,
   "metadata": {
    "collapsed": true
   },
   "outputs": [],
   "source": []
  },
  {
   "cell_type": "code",
   "execution_count": null,
   "metadata": {
    "collapsed": true
   },
   "outputs": [],
   "source": []
  }
 ],
 "metadata": {
  "kernelspec": {
   "display_name": "Python 3",
   "language": "python",
   "name": "python3"
  },
  "language_info": {
   "codemirror_mode": {
    "name": "ipython",
    "version": 3
   },
   "file_extension": ".py",
   "mimetype": "text/x-python",
   "name": "python",
   "nbconvert_exporter": "python",
   "pygments_lexer": "ipython3",
   "version": "3.6.1"
  }
 },
 "nbformat": 4,
 "nbformat_minor": 2
}
