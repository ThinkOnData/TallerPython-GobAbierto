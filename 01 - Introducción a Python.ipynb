{
 "cells": [
  {
   "cell_type": "markdown",
   "metadata": {
    "slideshow": {
     "slide_type": "slide"
    }
   },
   "source": [
    "# I Festival de Gobierno Abierto\n",
    "\n",
    "<br/> \n",
    "## Taller de Analisis de Datos usando Python \n",
    " <br/>\n",
    "**Kevin Martinez-Folgar** <kmartinezfolgar@gmail.com> <br/>\n",
    "**Sebastian Oliva** <yo@sebastianoliva.com> <br>\n",
    "<br/>\n",
    "<hr/>"
   ]
  },
  {
   "cell_type": "markdown",
   "metadata": {
    "slideshow": {
     "slide_type": "slide"
    }
   },
   "source": [
    "# Introducción a Python"
   ]
  },
  {
   "cell_type": "markdown",
   "metadata": {
    "slideshow": {
     "slide_type": "slide"
    }
   },
   "source": [
    "![python](http://imgs.xkcd.com/comics/python.png)"
   ]
  },
  {
   "cell_type": "markdown",
   "metadata": {
    "slideshow": {
     "slide_type": "slide"
    }
   },
   "source": [
    "# Python\n",
    "\n",
    "http://www.python.org"
   ]
  },
  {
   "cell_type": "code",
   "execution_count": 2,
   "metadata": {
    "slideshow": {
     "slide_type": "-"
    }
   },
   "outputs": [
    {
     "data": {
      "text/html": [
       "\n",
       "        <iframe\n",
       "            width=\"100%\"\n",
       "            height=\"500\"\n",
       "            src=\"https://es.wikipedia.org/wiki/Python\"\n",
       "            frameborder=\"0\"\n",
       "            allowfullscreen\n",
       "        ></iframe>\n",
       "        "
      ],
      "text/plain": [
       "<IPython.lib.display.IFrame at 0x220486765c0>"
      ]
     },
     "execution_count": 2,
     "metadata": {},
     "output_type": "execute_result"
    }
   ],
   "source": [
    "from IPython.display import IFrame\n",
    "IFrame('https://es.wikipedia.org/wiki/Python', width='100%', height=500)"
   ]
  },
  {
   "cell_type": "markdown",
   "metadata": {
    "slideshow": {
     "slide_type": "slide"
    }
   },
   "source": [
    "## ¿Que es Python?\n",
    "\n",
    "Python es un lenguaje de programación orientado a objetos moderno y de codigo libre, creado por Guido van Rossum. Frecuentemente es comparado con lenguajes como Perl y Ruby. Es un lenguaje de alto nivel (quiere decir que es mas entendible por los humanos que otros lenguajes mas cercanos a programación binaria como C#). El lenguaje es limpio y legible, sin contar que esta disponible para casi todas las plataformas de computación modernas.\n"
   ]
  },
  {
   "cell_type": "markdown",
   "metadata": {
    "slideshow": {
     "slide_type": "slide"
    }
   },
   "source": [
    "## ¿Por qué usar Python para analisis de datos?\n",
    "\n",
    "***Poderoso y de facil uso***  \n",
    "Python es poderoso, flexible y facil de aprender. Cualquier cosa que se pueda programar en C, FORTRAN o JAVA puede ser programado en Python (y casi siempre con menos lineas de código)\n",
    "\n",
    "***Interactivo***  \n",
    "Python puede ser interpretado directamente desde la linea de comandos, en lugar de compilar y correr el codigo (como varios lenguajes de programación) esto lo hace excepcional para programación matematica.\n",
    "\n"
   ]
  },
  {
   "cell_type": "markdown",
   "metadata": {
    "slideshow": {
     "slide_type": "subslide"
    }
   },
   "source": [
    "***Modulos de terceros***  \n",
    "Existe una gran cantidad de modulos de Python creados fuera del patrocinio de la Fundación de Software Python. Esto incluye librerias para bases de datos, matematicas, estadisticas, graficas, etc. Algunas notables son:\n",
    "\n",
    "* ***NumPy***: Numerical Python (NumPy) es un conjunto de herramientas que provee la habilidad de manejar \"arrays\". Provee capacidades similares a las encontradas en Matlab o Octave.\n",
    "* ***Matplotlib***: Matplotlib es la libreria para graficas 2D plotting que produce figuras con excelente calidad listas para publicar exportables a una variedad de formatos y con sintaxis muy similar a Matlab\n",
    "* ***Pandas***: Una libreria facil de usar que provee herramientas para manejar estructuras tabulares (bases de datos) y realizar analisis de manera sencilla. En particular la clase \"DataFrame\" es uno de los principios de este curso. Tambien incluye funciones para graficar la base de datos muy potentes.\n",
    "* ***Jupyter/IPython***: Una versión mejorada de Python, diseñada para incrementar la eficiencia y facilidad de escribir código.\n"
   ]
  },
  {
   "cell_type": "markdown",
   "metadata": {
    "slideshow": {
     "slide_type": "subslide"
    }
   },
   "source": [
    "\n",
    "***Gratis y de código abierto***  \n",
    "Python es distribuido en todas las plataformas bajo una licencia abierta (Python Software Foundation License), eso significa que el lenguaje como su código son distribuidos de manera gratuita. Esto no solo disminuye los costos para los cientificos y las universidades con presupuesto limitado, tambien libera a los programadores sobre dudas sobre las licencias de los software que desarrollan. Esto convierte a la razón de comprar una licencia de software en algo dudoso pudiendo tener a Python con la misma funcionalidad totalmente gratis."
   ]
  },
  {
   "cell_type": "markdown",
   "metadata": {
    "slideshow": {
     "slide_type": "slide"
    }
   },
   "source": [
    "# ¿Cómo instalar Python?"
   ]
  },
  {
   "cell_type": "markdown",
   "metadata": {
    "slideshow": {
     "slide_type": "fragment"
    }
   },
   "source": [
    "## Python\n",
    "https://www.python.org/\n",
    "![Python](http://www.unixstickers.com/image/cache/data/stickers/python/python_sh-180x180.png)"
   ]
  },
  {
   "cell_type": "markdown",
   "metadata": {
    "slideshow": {
     "slide_type": "slide"
    }
   },
   "source": [
    "# ¿Pero ya listo con los paquetes cientificos?"
   ]
  },
  {
   "cell_type": "markdown",
   "metadata": {
    "slideshow": {
     "slide_type": "fragment"
    }
   },
   "source": [
    "## Anaconda\n",
    "https://www.continuum.io/anaconda-overview\n",
    "![Anaconda](https://www.continuum.io/sites/all/themes/continuum/assets/images/logos/logo-horizontal-large.svg)"
   ]
  },
  {
   "cell_type": "markdown",
   "metadata": {
    "slideshow": {
     "slide_type": "subslide"
    }
   },
   "source": [
    "## WinPython\n",
    "https://winpython.github.io/\n",
    "![WinPython](https://winpython.github.io/images/winpython_title.png)"
   ]
  },
  {
   "cell_type": "markdown",
   "metadata": {
    "slideshow": {
     "slide_type": "slide"
    }
   },
   "source": [
    "# Jupyter/IPython\n",
    "![Jupyter](https://www.dataquest.io/blog/images/social_share/jupyter_tips.jpg)\n",
    "//![IPython](http://ipython.org/ipython-doc/rel-0.13/_images/ipy_013_notebook_spectrogram.png)\n",
    "<hr/>\n",
    "<hr/>"
   ]
  },
  {
   "cell_type": "markdown",
   "metadata": {
    "slideshow": {
     "slide_type": "slide"
    }
   },
   "source": [
    "## Spyder\n",
    "![Spyder](http://works13.com/bilder/blog/Spyder-mac.png)\n",
    "<hr/>\n",
    "<hr/>"
   ]
  },
  {
   "cell_type": "code",
   "execution_count": null,
   "metadata": {
    "collapsed": true
   },
   "outputs": [],
   "source": []
  }
 ],
 "metadata": {
  "celltoolbar": "Slideshow",
  "kernelspec": {
   "display_name": "Python 3",
   "language": "python",
   "name": "python3"
  },
  "language_info": {
   "codemirror_mode": {
    "name": "ipython",
    "version": 3
   },
   "file_extension": ".py",
   "mimetype": "text/x-python",
   "name": "python",
   "nbconvert_exporter": "python",
   "pygments_lexer": "ipython3",
   "version": "3.6.1"
  }
 },
 "nbformat": 4,
 "nbformat_minor": 2
}
